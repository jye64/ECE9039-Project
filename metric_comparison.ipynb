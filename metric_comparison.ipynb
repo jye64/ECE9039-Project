{
  "nbformat": 4,
  "nbformat_minor": 0,
  "metadata": {
    "colab": {
      "name": "metric_comparison.ipynb",
      "provenance": [],
      "collapsed_sections": []
    },
    "kernelspec": {
      "name": "python3",
      "display_name": "Python 3"
    },
    "language_info": {
      "name": "python"
    }
  },
  "cells": [
    {
      "cell_type": "code",
      "metadata": {
        "id": "zKvFPzvFfPil"
      },
      "source": [
        "import pandas as pd\n",
        "import matplotlib.pyplot as plt\n",
        "import seaborn as sns"
      ],
      "execution_count": null,
      "outputs": []
    },
    {
      "cell_type": "code",
      "metadata": {
        "colab": {
          "base_uri": "https://localhost:8080/",
          "height": 269
        },
        "id": "7PRssp5lftV7",
        "outputId": "4a07c1e6-beeb-4873-dc7e-d90d065c565e"
      },
      "source": [
        "models = ['CycleGAN', 'DiscoGAN', 'NST',]\n",
        "IS_score = [3.82, 1.34, 3.38]\n",
        "\n",
        "comparison = pd.DataFrame({'Model':models, 'IS':IS_score})\n",
        "\n",
        "sns.barplot(x = 'Model', y = 'IS', data = comparison)\n",
        "plt.ylim(0, 5)\n",
        "plt.xlabel('')\n",
        "plt.ylabel(\"Inception Score\")\n",
        "\n",
        "#place the labels\n",
        "ax = plt.gca()\n",
        "y_max = comparison['IS'].value_counts().max() \n",
        "ax.set_ylim(1)\n",
        "for p in ax.patches:\n",
        "    ax.text(p.get_x() + p.get_width()/2., p.get_height(), '{0:.2f}'.format(p.get_height()), \n",
        "        ha='center', va='bottom')\n",
        "plt.show()"
      ],
      "execution_count": null,
      "outputs": [
        {
          "output_type": "display_data",
          "data": {
            "image/png": "[encoded data removed]",
            "text/plain": [
              "<Figure size 432x288 with 1 Axes>"
            ]
          },
          "metadata": {
            "tags": [],
            "needs_background": "light"
          }
        }
      ]
    },
    {
      "cell_type": "code",
      "metadata": {
        "colab": {
          "base_uri": "https://localhost:8080/",
          "height": 269
        },
        "id": "3XA5BOIjh3hL",
        "outputId": "707fc356-c328-4a42-fe1c-433eadd5fce0"
      },
      "source": [
        "models = ['CycleGAN', 'DiscoGAN', 'NST',]\n",
        "FID_distance = [175.83, 312.47, 165.86]\n",
        "\n",
        "comparison = pd.DataFrame({'Model':models, 'FID':FID_distance})\n",
        "\n",
        "sns.barplot(x = 'Model', y = 'FID', data = comparison)\n",
        "plt.ylim(0, 400)\n",
        "plt.xlabel('')\n",
        "plt.ylabel(\"Frechet Inception Distance\")\n",
        "\n",
        "#place the labels\n",
        "ax = plt.gca()\n",
        "y_max = comparison['FID'].value_counts().max() \n",
        "ax.set_ylim(1)\n",
        "for p in ax.patches:\n",
        "    ax.text(p.get_x() + p.get_width()/2., p.get_height(), '{0:.2f}'.format(p.get_height()), \n",
        "        ha='center', va='bottom')\n",
        "plt.show()"
      ],
      "execution_count": null,
      "outputs": [
        {
          "output_type": "display_data",
          "data": {
            "image/png": "[encoded data removed]",
            "text/plain": [
              "<Figure size 432x288 with 1 Axes>"
            ]
          },
          "metadata": {
            "tags": [],
            "needs_background": "light"
          }
        }
      ]
    }
  ]
}